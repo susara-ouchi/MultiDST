{
 "cells": [
  {
   "cell_type": "markdown",
   "metadata": {},
   "source": [
    "## Trying out the sequential reduction procedure for multiple corrections"
   ]
  },
  {
   "cell_type": "markdown",
   "metadata": {},
   "source": [
    "### Importing datasets and libraries"
   ]
  },
  {
   "cell_type": "code",
   "execution_count": null,
   "metadata": {},
   "outputs": [],
   "source": [
    "import matplotlib.pyplot as plt\n",
    "import pandas as pd"
   ]
  },
  {
   "cell_type": "markdown",
   "metadata": {},
   "source": [
    "Opening the datasets"
   ]
  },
  {
   "cell_type": "code",
   "execution_count": null,
   "metadata": {},
   "outputs": [],
   "source": [
    "# Opening each dataset\n",
    "control_1 = pd.read_csv('MultiDST/MultiDST - Real-dataset-2-paired/control_1.tsv', sep='\\t')\n",
    "control_2 = pd.read_csv('MultiDST/MultiDST - Real-dataset-2-paired/control_2.tsv', sep='\\t')\n",
    "control_3 = pd.read_csv('MultiDST/MultiDST - Real-dataset-2-paired/control_3.tsv', sep='\\t')\n",
    "control_4 = pd.read_csv('MultiDST/MultiDST - Real-dataset-2-paired/control_4.tsv', sep='\\t')\n",
    "control_5 = pd.read_csv('MultiDST/MultiDST - Real-dataset-2-paired/control_4.tsv', sep='\\t')\n",
    "test_1 = pd.read_csv('MultiDST/MultiDST - Real-dataset-2-paired/test_1.tsv', sep='\\t')\n",
    "test_2 = pd.read_csv('MultiDST/MultiDST - Real-dataset-2-paired/test_2.tsv', sep='\\t')\n",
    "test_3 = pd.read_csv('MultiDST/MultiDST - Real-dataset-2-paired/test_3.tsv', sep='\\t')\n",
    "test_4 = pd.read_csv('MultiDST/MultiDST - Real-dataset-2-paired/test_4.tsv', sep='\\t')\n",
    "test_5 = pd.read_csv('MultiDST/MultiDST - Real-dataset-2-paired/test_5.tsv', sep='\\t')\n",
    "\n",
    "\n",
    "# Person 01\n",
    "C1_p = control_1['5455178010_A.Detection Pval']\n",
    "T1_p = test_1['5455178010_B.Detection Pval']\n",
    "\n",
    "# Person 02\n",
    "C2_p = control_2['5455178010_E.Detection Pval']\n",
    "T2_p = test_2['5455178010_F.Detection Pval']\n",
    "\n",
    "# Person 03\n",
    "C3_p = control_3['5455178010_I.Detection Pval']\n",
    "T3_p = test_3['5455178010_J.Detection Pval']\n",
    "\n",
    "# Person 04\n",
    "C4_p = control_4['5522887032_E.Detection Pval']\n",
    "T4_p = test_4['5522887032_F.Detection Pval']\n",
    "\n",
    "# Person 05\n",
    "C5_p = control_5['5522887032_E.Detection Pval']\n",
    "T5_p = test_5['5522887032_J.Detection Pval']"
   ]
  },
  {
   "cell_type": "markdown",
   "metadata": {},
   "source": [
    "Importing scripts containing the functions for MHT methods"
   ]
  },
  {
   "cell_type": "code",
   "execution_count": null,
   "metadata": {},
   "outputs": [],
   "source": [
    "from A02_FWER1_bonferroni import bonferroni\n",
    "from A02_FWER3_holm import holm\n",
    "from A02_FWER5_sgof import sgof_test\n",
    "from A03_FDR1_bh import bh_method\n",
    "from A03_FDR2_qval import q_value\n",
    "from A03_FDR3_BY import BY_method"
   ]
  },
  {
   "cell_type": "markdown",
   "metadata": {},
   "source": [
    "We will first try on the Control 01 p values"
   ]
  },
  {
   "cell_type": "markdown",
   "metadata": {},
   "source": [
    "########################### For the full dataset #################################\n",
    "\n",
    "p_values = C1_p\n",
    "\n",
    "plt.hist(p_values, bins=30,alpha=0.5)\n",
    "plt.title('Distribution of uncorrected p-values')\n",
    "plt.xlabel('p-value')\n",
    "plt.ylabel('Frequency')\n",
    "plt.legend()\n",
    "plt.show()\n",
    "\n",
    "plt.hist(p_values)"
   ]
  }
 ],
 "metadata": {
  "language_info": {
   "name": "python"
  }
 },
 "nbformat": 4,
 "nbformat_minor": 2
}
